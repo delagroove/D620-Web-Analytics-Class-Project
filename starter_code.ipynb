{
 "cells": [
  {
   "cell_type": "code",
   "execution_count": 130,
   "metadata": {},
   "outputs": [],
   "source": [
    "import nltk\n",
    "import random\n",
    "import numpy as np\n",
    "from itertools import repeat\n",
    "from sklearn.model_selection import train_test_split\n",
    "from nltk.corpus import names"
   ]
  },
  {
   "cell_type": "code",
   "execution_count": 187,
   "metadata": {},
   "outputs": [
    {
     "data": {
      "text/plain": [
       "['female.txt', 'male.txt']"
      ]
     },
     "execution_count": 187,
     "metadata": {},
     "output_type": "execute_result"
    }
   ],
   "source": [
    "# confirm male and female txt files exist\n",
    "names.fileids()"
   ]
  },
  {
   "cell_type": "code",
   "execution_count": 188,
   "metadata": {},
   "outputs": [],
   "source": [
    "# load male and female  name files from nltk.names; store in people list\n",
    "males = [n for n in names.words('male.txt')] \n",
    "females = [n for n in names.words('female.txt')] \n",
    "people = males + females\n",
    "\n",
    "# make gender list\n",
    "gender = list(repeat('male',len(males))) + \\\n",
    "list(repeat('female',len(females)))\n"
   ]
  },
  {
   "cell_type": "code",
   "execution_count": 217,
   "metadata": {},
   "outputs": [
    {
     "data": {
      "text/plain": [
       "{'last_two': 'ek', 'first_two': 'shr'}"
      ]
     },
     "execution_count": 217,
     "metadata": {},
     "output_type": "execute_result"
    }
   ],
   "source": [
    "# extract features\n",
    "def gender_features(word):\n",
    "    features = {}\n",
    "    #features['last'] = word[-1].lower()\n",
    "    features['last_two'] = word[-2:].lower()\n",
    "    features['first_two'] = word[0:3].lower()\n",
    "    \n",
    "    return(features)\n",
    "\n",
    "\n",
    "gender_features('Shrek')"
   ]
  },
  {
   "cell_type": "code",
   "execution_count": 218,
   "metadata": {},
   "outputs": [],
   "source": [
    "# split into test and train, with test file containing 1000 samples\n",
    "people_train, people_test, gender_train, gender_test =  \\\n",
    "train_test_split(people, gender, test_size=1000, random_state=4)\n",
    "\n",
    "# split test into two separate components of 500 each: test and devtest\n",
    "people_test, people_devtest, gender_test, gender_devtest = \\\n",
    "train_test_split(people_test, gender_test, test_size=500, random_state=4)\n",
    "\n",
    "# list of tuples, gender features, gender\n",
    "train_set = list(zip(map(gender_features, people_train),gender_train))\n",
    "devtest_set = list(zip(map(gender_features, people_devtest),gender_devtest))\n",
    "test_set = list(zip(map(gender_features, people_test),gender_test))\n",
    "\n",
    "\n",
    "# list of tuples, names, gender\n",
    "train_names = list(zip(people_train,gender_train))\n",
    "devtest_names = list(zip(people_devtest,gender_devtest))\n",
    "test_names = list(zip(people_test, gender_test))\n",
    "\n",
    "# train naive bayes classifier \n",
    "classifier = nltk.NaiveBayesClassifier.train(train_set)\n"
   ]
  },
  {
   "cell_type": "code",
   "execution_count": 222,
   "metadata": {},
   "outputs": [
    {
     "name": "stdout",
     "output_type": "stream",
     "text": [
      "Most Informative Features\n",
      "                last_two = 'na'           female : male   =     94.0 : 1.0\n",
      "                last_two = 'la'           female : male   =     68.3 : 1.0\n",
      "                last_two = 'ia'           female : male   =     36.2 : 1.0\n",
      "                last_two = 'ra'           female : male   =     33.9 : 1.0\n",
      "                last_two = 'us'             male : female =     29.1 : 1.0\n",
      "                last_two = 'ta'           female : male   =     28.9 : 1.0\n",
      "                last_two = 'rd'             male : female =     27.2 : 1.0\n",
      "                last_two = 'ld'             male : female =     23.2 : 1.0\n",
      "                last_two = 'rt'             male : female =     21.4 : 1.0\n",
      "                last_two = 'do'             male : female =     20.8 : 1.0\n",
      "                last_two = 'im'             male : female =     18.5 : 1.0\n",
      "                last_two = 'os'             male : female =     17.4 : 1.0\n",
      "               first_two = 'ros'          female : male   =     16.3 : 1.0\n",
      "                last_two = 'io'             male : female =     15.8 : 1.0\n",
      "                last_two = 'ch'             male : female =     15.8 : 1.0\n",
      "               first_two = 'tha'            male : female =     14.2 : 1.0\n",
      "                last_two = 'ka'           female : male   =     14.1 : 1.0\n",
      "                last_two = 'lo'             male : female =     12.5 : 1.0\n",
      "               first_two = 'cat'          female : male   =     12.1 : 1.0\n",
      "                last_two = 'ya'           female : male   =     10.9 : 1.0\n"
     ]
    }
   ],
   "source": [
    "# look at most informative features\n",
    "classifier.show_most_informative_features(20)"
   ]
  },
  {
   "cell_type": "code",
   "execution_count": 220,
   "metadata": {},
   "outputs": [
    {
     "name": "stdout",
     "output_type": "stream",
     "text": [
      "0.828\n"
     ]
    }
   ],
   "source": [
    "# classifer accuracy on validation set\n",
    "print(nltk.classify.accuracy(classifier, devtest_set))"
   ]
  },
  {
   "cell_type": "code",
   "execution_count": 192,
   "metadata": {},
   "outputs": [
    {
     "name": "stdout",
     "output_type": "stream",
     "text": [
      "actual, guess, name: \n",
      "\n",
      "('female', 'male', 'Winonah')\n",
      "('male', 'female', 'Abbie')\n",
      "('male', 'female', 'Clayborne')\n",
      "('male', 'female', 'Reese')\n",
      "('male', 'female', 'Randi')\n",
      "('male', 'female', 'Aguste')\n",
      "('male', 'female', 'Lucien')\n",
      "('male', 'female', 'Jeffry')\n",
      "('male', 'female', 'Davide')\n",
      "('male', 'female', 'Damien')\n",
      "('female', 'male', 'Marillin')\n",
      "('female', 'male', 'Sibby')\n",
      "('female', 'male', 'Haley')\n",
      "('male', 'female', 'Clarance')\n",
      "('male', 'female', 'Kennedy')\n",
      "('female', 'male', 'Kim')\n",
      "('male', 'female', 'Arel')\n",
      "('male', 'female', 'Morly')\n",
      "('male', 'female', 'Lane')\n",
      "('male', 'female', 'Adams')\n",
      "('male', 'female', 'Casey')\n",
      "('male', 'female', 'Tremayne')\n",
      "('female', 'male', 'Ruthy')\n",
      "('male', 'female', 'Michele')\n",
      "('female', 'male', 'Marian')\n",
      "('male', 'female', 'Kit')\n",
      "('male', 'female', 'Darien')\n",
      "('female', 'male', 'Joycelin')\n",
      "('female', 'male', 'Chrysler')\n",
      "('female', 'male', 'Marin')\n",
      "('female', 'male', 'Franky')\n",
      "('female', 'male', 'Honey')\n",
      "('female', 'male', 'Quentin')\n",
      "('male', 'female', 'Neale')\n",
      "('male', 'female', 'Gabriele')\n",
      "('male', 'female', 'Ken')\n",
      "('male', 'female', 'Abe')\n",
      "('male', 'female', 'Reza')\n",
      "('male', 'female', 'Donny')\n",
      "('female', 'male', 'Viviyan')\n",
      "('female', 'male', 'Con')\n",
      "('male', 'female', 'Kin')\n",
      "('male', 'female', 'Shawn')\n",
      "('male', 'female', 'Hymie')\n",
      "('male', 'female', 'Demetre')\n",
      "('female', 'male', 'Sheril')\n",
      "('male', 'female', 'Noel')\n",
      "('male', 'female', 'Norm')\n",
      "('female', 'male', 'Suzan')\n",
      "('male', 'female', 'Ricki')\n",
      "('female', 'male', 'Flo')\n",
      "('female', 'male', 'Dorcas')\n",
      "('female', 'male', 'Paula-Grace')\n",
      "('female', 'male', 'Fleur')\n",
      "('male', 'female', 'Samuele')\n",
      "('male', 'female', 'Antoni')\n",
      "('female', 'male', 'Brandice')\n",
      "('male', 'female', 'Chet')\n",
      "('male', 'female', 'Chrissy')\n",
      "('male', 'female', 'Corbin')\n",
      "('female', 'male', 'Megan')\n",
      "('male', 'female', 'Ali')\n",
      "('male', 'female', 'Gordie')\n",
      "('female', 'male', 'Consuelo')\n",
      "('female', 'male', 'Roby')\n",
      "('female', 'male', 'Jeniffer')\n",
      "('male', 'female', 'Giorgi')\n",
      "('male', 'female', 'Nat')\n",
      "('female', 'male', 'Van')\n",
      "('male', 'female', 'Enrique')\n",
      "('female', 'male', 'Hester')\n",
      "('male', 'female', 'Stephen')\n",
      "('female', 'male', 'Sinead')\n",
      "('male', 'female', 'Ahmet')\n",
      "('male', 'female', 'Archie')\n",
      "('female', 'male', 'Devin')\n",
      "('female', 'male', 'George')\n",
      "('male', 'female', 'Allen')\n",
      "('female', 'male', 'Germain')\n",
      "('male', 'female', 'Jodie')\n",
      "('male', 'female', 'Flinn')\n",
      "('male', 'female', 'Paten')\n",
      "('male', 'female', 'Micheil')\n",
      "('female', 'male', 'Rianon')\n",
      "('female', 'male', 'Queenie')\n",
      "('male', 'female', 'Lynn')\n",
      "('male', 'female', 'Ernie')\n",
      "('female', 'male', 'Charlot')\n",
      "('female', 'male', 'Page')\n",
      "('male', 'female', 'Emanuel')\n",
      "('male', 'female', 'Piggy')\n",
      "('male', 'female', 'Stearne')\n",
      "('male', 'female', 'Uri')\n",
      "('male', 'female', 'Sascha')\n",
      "('male', 'female', 'Loren')\n",
      "('female', 'male', 'Winnie')\n"
     ]
    }
   ],
   "source": [
    "# look at names that were mis-classified\n",
    "errors = []\n",
    "for (name, tag) in devtest_names:\n",
    "    #print(name)\n",
    "    guess = classifier.classify(gender_features(name))\n",
    "    if guess != tag:\n",
    "        errors.append( (tag, guess, name) )\n",
    "\n",
    "print('actual, guess, name: \\n')\n",
    "for x in errors:\n",
    "    print(x)\n",
    "        \n",
    "        "
   ]
  },
  {
   "cell_type": "markdown",
   "metadata": {},
   "source": [
    "### References\n",
    "http://www.nltk.org/howto/corpus.html"
   ]
  }
 ],
 "metadata": {
  "kernelspec": {
   "display_name": "Python 3",
   "language": "python",
   "name": "python3"
  },
  "language_info": {
   "codemirror_mode": {
    "name": "ipython",
    "version": 3
   },
   "file_extension": ".py",
   "mimetype": "text/x-python",
   "name": "python",
   "nbconvert_exporter": "python",
   "pygments_lexer": "ipython3",
   "version": "3.6.5"
  }
 },
 "nbformat": 4,
 "nbformat_minor": 2
}

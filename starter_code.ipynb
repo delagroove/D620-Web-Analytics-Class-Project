{
 "cells": [
  {
   "cell_type": "code",
   "execution_count": 5,
   "metadata": {},
   "outputs": [],
   "source": [
    "import nltk\n",
    "import random\n",
    "import numpy as np\n",
    "from itertools import repeat\n",
    "from sklearn.model_selection import train_test_split\n",
    "from nltk.corpus import names"
   ]
  },
  {
   "cell_type": "code",
   "execution_count": 6,
   "metadata": {},
   "outputs": [
    {
     "data": {
      "text/plain": [
       "['female.txt', 'male.txt']"
      ]
     },
     "execution_count": 6,
     "metadata": {},
     "output_type": "execute_result"
    }
   ],
   "source": [
    "# confirm male and female txt files exist\n",
    "names.fileids()"
   ]
  },
  {
   "cell_type": "code",
   "execution_count": 7,
   "metadata": {},
   "outputs": [],
   "source": [
    "# load male and female  name files from nltk.names; store in people list\n",
    "males = [n for n in names.words('male.txt')] \n",
    "females = [n for n in names.words('female.txt')] \n",
    "people = males + females\n",
    "\n",
    "# make gender list\n",
    "gender = list(repeat('male',len(males))) + \\\n",
    "list(repeat('female',len(females)))\n"
   ]
  },
  {
   "cell_type": "code",
   "execution_count": 8,
   "metadata": {},
   "outputs": [],
   "source": [
    "# produce features\n",
    "def gender_features(word, *args):\n",
    "    \"\"\"\n",
    "    function returns dictionary of features\n",
    "        word: name to extract features from\n",
    "        args:  one or more strings to specify desired features, including:\n",
    "                'length','first','first2','first3', 'last', 'last2', 'last3',\n",
    "                'every_other2_beg','every_other3_beg', 'every_other2_end', 'every_other3_end',\n",
    "                'vowel_ct', 'round_cons_ct', 'sharp_cons_ct','round_vowel_ct',\n",
    "                trad_female_end'\n",
    "               \n",
    "    \"\"\"\n",
    "    \n",
    "    gf = {}\n",
    "    \n",
    "    # word length\n",
    "    gf['length'] = len(word)\n",
    "   \n",
    "    # first letters\n",
    "    gf['first'] = word[0].lower()\n",
    "    gf['first2'] = word[0:2].lower()\n",
    "    gf['first3'] = word[0:3].lower() if gf['length'] >2  else word[0:2].lower()\n",
    "    \n",
    "    # last letters\n",
    "    gf['last'] = word[-1].lower()\n",
    "    gf['last2'] = word[-2:].lower()\n",
    "    gf['last3'] = word[-3:].lower() if gf['length'] >2  else word[-2:].lower()\n",
    "    \n",
    "    # every other beg\n",
    "    gf['every_other2_beg'] = word[0]+word[2] if gf['length'] > 2 else word[0]\n",
    "    gf['every_other3_beg'] = gf['every_other2_beg']+word[4]  if gf['length'] > 4 else \\\n",
    "    gf['every_other2_beg']\n",
    "    \n",
    "    # every other end\n",
    "    gf['every_other2_end'] = word[-3]+word[-1] if gf['length'] > 2 else word[-1]\n",
    "    gf['every_other3_end'] = word[-5]+gf['every_other2_end']  if gf['length'] > 4 else \\\n",
    "    gf['every_other2_end']\n",
    "    \n",
    "    # count: vowels, rounded consonants, sharp consonants\n",
    "    for letter in word:\n",
    "        # count vowels\n",
    "        if letter in 'aeiou':\n",
    "            gf['vowel_ct'] = gf.get('vowel_ct',0) + 1\n",
    "        # count rounded consonants\n",
    "        if letter in 'bmln':\n",
    "            gf['round_cons_ct'] = gf.get('round_cons_ct',0) + 1\n",
    "        # count sharp consonants\n",
    "        if letter in 'k,p,t':\n",
    "            gf['sharp_cons_ct'] = gf.get('sharp_cons_ct',0) + 1\n",
    "        # count rounded vowels\n",
    "        if letter in 'uo':\n",
    "            gf['round_vowel_ct'] = gf.get('round_vowel_ct',0) + 1\n",
    "            \n",
    "    # traditional feminine ending, 'y' or 'n'\n",
    "    gf['trad_female_end'] = 'y' if gf['last2'] in ['ie','ah'] or \\\n",
    "    gf['last'] in ['a','y'] else 'n'\n",
    "    \n",
    "    # generate dictionary subset\n",
    "    return(dict((k, gf[k]) for k in args if k in gf))\n",
    "    \n",
    "       "
   ]
  },
  {
   "cell_type": "code",
   "execution_count": 9,
   "metadata": {},
   "outputs": [
    {
     "data": {
      "text/plain": [
       "{'length': 5,\n",
       " 'first': 's',\n",
       " 'first2': 'sa',\n",
       " 'first3': 'san',\n",
       " 'last': 'y',\n",
       " 'last2': 'dy',\n",
       " 'last3': 'ndy',\n",
       " 'every_other2_beg': 'Sn',\n",
       " 'every_other3_beg': 'Sny',\n",
       " 'every_other2_end': 'ny',\n",
       " 'every_other3_end': 'Sny',\n",
       " 'vowel_ct': 1,\n",
       " 'round_cons_ct': 1,\n",
       " 'trad_female_end': 'y'}"
      ]
     },
     "execution_count": 9,
     "metadata": {},
     "output_type": "execute_result"
    }
   ],
   "source": [
    "# specify which features to use\n",
    "myargs = ['length','first','first2','first3', 'last', 'last2', 'last3', \\\n",
    "          'every_other2_beg','every_other3_beg', 'every_other2_end', 'every_other3_end', \\\n",
    "          'vowel_ct', 'round_cons_ct', 'sharp_cons_ct','round_vowel_ct', \\\n",
    "          'trad_female_end']\n",
    "\n",
    "# specify name, and argument list \n",
    "gender_features('Sandy', *myargs)"
   ]
  },
  {
   "cell_type": "code",
   "execution_count": 11,
   "metadata": {},
   "outputs": [],
   "source": [
    "# split into test and train, with test file containing 1000 samples\n",
    "people_train, people_test, gender_train, gender_test =  \\\n",
    "train_test_split(people, gender, test_size=1000, random_state=4)\n",
    "\n",
    "# split test into two separate components of 500 each: test and devtest\n",
    "people_test, people_devtest, gender_test, gender_devtest = \\\n",
    "train_test_split(people_test, gender_test, test_size=500, random_state=4)\n",
    "\n",
    "# list of tuples, gender features, gender\n",
    "train_set = list(zip(map(lambda d: gender_features(d, *myargs), people_train),gender_train))\n",
    "devtest_set = list(zip(map(lambda d: gender_features(d, *myargs), people_devtest),gender_devtest))\n",
    "test_set = list(zip(map(lambda d: gender_features(d, *myargs), people_test),gender_test))\n",
    "\n",
    "\n",
    "# list of tuples, names, gender\n",
    "train_names = list(zip(people_train,gender_train))\n",
    "devtest_names = list(zip(people_devtest,gender_devtest))\n",
    "test_names = list(zip(people_test, gender_test))\n",
    "\n",
    "# train naive bayes classifier \n",
    "classifier = nltk.NaiveBayesClassifier.train(train_set)\n"
   ]
  },
  {
   "cell_type": "code",
   "execution_count": 15,
   "metadata": {},
   "outputs": [
    {
     "name": "stdout",
     "output_type": "stream",
     "text": [
      "Most Informative Features\n",
      "                   last2 = 'na'           female : male   =     94.0 : 1.0\n",
      "        every_other2_end = 'la'           female : male   =     77.7 : 1.0\n",
      "                   last2 = 'la'           female : male   =     68.3 : 1.0\n",
      "        every_other2_end = 'ea'           female : male   =     62.7 : 1.0\n",
      "        every_other2_end = 'ia'           female : male   =     54.2 : 1.0\n",
      "                    last = 'a'            female : male   =     36.9 : 1.0\n",
      "                   last2 = 'ia'           female : male   =     36.2 : 1.0\n",
      "                   last2 = 'ra'           female : male   =     33.9 : 1.0\n",
      "                    last = 'k'              male : female =     30.6 : 1.0\n",
      "                   last2 = 'us'             male : female =     29.1 : 1.0\n",
      "                   last2 = 'ta'           female : male   =     28.9 : 1.0\n",
      "                   last2 = 'rd'             male : female =     27.2 : 1.0\n",
      "        every_other3_end = 'aia'          female : male   =     27.0 : 1.0\n",
      "        every_other2_end = 'aa'           female : male   =     26.3 : 1.0\n",
      "                   last3 = 'ard'            male : female =     24.8 : 1.0\n",
      "                   last3 = 'ana'          female : male   =     24.0 : 1.0\n",
      "                   last2 = 'ld'             male : female =     23.2 : 1.0\n",
      "        every_other2_end = 'ra'           female : male   =     21.7 : 1.0\n",
      "                   last2 = 'rt'             male : female =     21.4 : 1.0\n",
      "                   last2 = 'do'             male : female =     20.8 : 1.0\n",
      "        every_other2_end = 'od'             male : female =     19.6 : 1.0\n",
      "                   last3 = 'nne'          female : male   =     19.5 : 1.0\n",
      "                   last2 = 'im'             male : female =     18.5 : 1.0\n",
      "        every_other2_end = 'sa'           female : male   =     18.4 : 1.0\n",
      "        every_other2_end = 'ta'           female : male   =     17.9 : 1.0\n",
      "          round_vowel_ct = 3                male : female =     17.7 : 1.0\n",
      "                  first2 = 'hu'             male : female =     17.4 : 1.0\n",
      "                   last2 = 'os'             male : female =     17.4 : 1.0\n",
      "                   last3 = 'old'            male : female =     17.3 : 1.0\n",
      "                  first3 = 'ros'          female : male   =     16.3 : 1.0\n",
      "        every_other2_beg = 'Wi'             male : female =     16.0 : 1.0\n",
      "        every_other2_end = 'dr'             male : female =     16.0 : 1.0\n",
      "                   last2 = 'ch'             male : female =     15.8 : 1.0\n",
      "                   last2 = 'io'             male : female =     15.8 : 1.0\n",
      "        every_other2_beg = 'Rd'             male : female =     14.4 : 1.0\n",
      "        every_other3_end = 'ead'            male : female =     14.2 : 1.0\n",
      "                  first3 = 'tha'            male : female =     14.2 : 1.0\n",
      "                   last2 = 'ka'           female : male   =     14.1 : 1.0\n",
      "        every_other2_end = 'ad'             male : female =     13.9 : 1.0\n",
      "        every_other3_end = 'aa'           female : male   =     13.8 : 1.0\n",
      "                   last3 = 'ela'          female : male   =     13.4 : 1.0\n",
      "                    last = 'f'              male : female =     13.4 : 1.0\n",
      "                   last3 = 'ita'          female : male   =     13.1 : 1.0\n",
      "        every_other2_end = 'vn'             male : female =     13.0 : 1.0\n",
      "                   last3 = 'ria'          female : male   =     13.0 : 1.0\n",
      "        every_other2_end = 'wn'             male : female =     12.9 : 1.0\n",
      "        every_other3_end = 'rle'          female : male   =     12.5 : 1.0\n",
      "        every_other3_end = 'ia'           female : male   =     12.5 : 1.0\n",
      "                   last2 = 'lo'             male : female =     12.5 : 1.0\n",
      "        every_other2_beg = 'Nn'           female : male   =     12.3 : 1.0\n"
     ]
    }
   ],
   "source": [
    "# look at most informative features\n",
    "classifier.show_most_informative_features(50)"
   ]
  },
  {
   "cell_type": "code",
   "execution_count": 13,
   "metadata": {},
   "outputs": [
    {
     "name": "stdout",
     "output_type": "stream",
     "text": [
      "0.84\n"
     ]
    }
   ],
   "source": [
    "# classifer accuracy on validation set\n",
    "print(nltk.classify.accuracy(classifier, devtest_set))"
   ]
  },
  {
   "cell_type": "code",
   "execution_count": 9,
   "metadata": {},
   "outputs": [
    {
     "name": "stdout",
     "output_type": "stream",
     "text": [
      "actual, guess, name: \n",
      "\n",
      "('female', 'male', 'Winonah')\n",
      "('male', 'female', 'Abbie')\n",
      "('male', 'female', 'Clayborne')\n",
      "('female', 'male', 'Abbey')\n",
      "('male', 'female', 'Ivor')\n",
      "('male', 'female', 'Reese')\n",
      "('male', 'female', 'Randi')\n",
      "('male', 'female', 'Aguste')\n",
      "('male', 'female', 'Lucien')\n",
      "('male', 'female', 'Davide')\n",
      "('male', 'female', 'Damien')\n",
      "('female', 'male', 'Benny')\n",
      "('male', 'female', 'Clarance')\n",
      "('male', 'female', 'Percival')\n",
      "('male', 'female', 'Malcolm')\n",
      "('male', 'female', 'Gabriell')\n",
      "('female', 'male', 'Kim')\n",
      "('male', 'female', 'Arel')\n",
      "('female', 'male', 'Lamb')\n",
      "('male', 'female', 'Morly')\n",
      "('male', 'female', 'Lane')\n",
      "('male', 'female', 'Adams')\n",
      "('male', 'female', 'Casey')\n",
      "('male', 'female', 'Tremayne')\n",
      "('female', 'male', 'Ruthy')\n",
      "('male', 'female', 'Michele')\n",
      "('male', 'female', 'Kit')\n",
      "('male', 'female', 'Heath')\n",
      "('male', 'female', 'Darien')\n",
      "('female', 'male', 'Chrysler')\n",
      "('male', 'female', 'Terrence')\n",
      "('female', 'male', 'Franky')\n",
      "('female', 'male', 'Quentin')\n",
      "('male', 'female', 'Gabriele')\n",
      "('male', 'female', 'Reza')\n",
      "('male', 'female', 'Donny')\n",
      "('female', 'male', 'Con')\n",
      "('male', 'female', 'Shawn')\n",
      "('female', 'male', 'Sheril')\n",
      "('male', 'female', 'Noel')\n",
      "('male', 'female', 'Norm')\n",
      "('female', 'male', 'Kiley')\n",
      "('female', 'male', 'Courtney')\n",
      "('female', 'male', 'Flo')\n",
      "('male', 'female', 'Brice')\n",
      "('female', 'male', 'Fleur')\n",
      "('male', 'female', 'Samuele')\n",
      "('male', 'female', 'Hyatt')\n",
      "('male', 'female', 'Antoni')\n",
      "('female', 'male', 'Brandice')\n",
      "('male', 'female', 'Chet')\n",
      "('male', 'female', 'Chrissy')\n",
      "('male', 'female', 'Corbin')\n",
      "('female', 'male', 'Rodie')\n",
      "('female', 'male', 'Mureil')\n",
      "('male', 'female', 'Gustaf')\n",
      "('male', 'female', 'Ali')\n",
      "('female', 'male', 'Consuelo')\n",
      "('female', 'male', 'Roby')\n",
      "('male', 'female', 'Theodore')\n",
      "('male', 'female', 'Giorgi')\n",
      "('male', 'female', 'Nat')\n",
      "('male', 'female', 'Hailey')\n",
      "('male', 'female', 'Enrique')\n",
      "('female', 'male', 'Vinnie')\n",
      "('female', 'male', 'Ricki')\n",
      "('female', 'male', 'Hester')\n",
      "('male', 'female', 'Stephen')\n",
      "('female', 'male', 'Sinead')\n",
      "('female', 'male', 'George')\n",
      "('female', 'male', 'Avril')\n",
      "('male', 'female', 'Allen')\n",
      "('female', 'male', 'Germain')\n",
      "('male', 'female', 'Jodie')\n",
      "('male', 'female', 'Sargent')\n",
      "('female', 'male', 'Rianon')\n",
      "('male', 'female', 'Lynn')\n",
      "('female', 'male', 'Amberly')\n",
      "('male', 'female', 'Ernie')\n",
      "('female', 'male', 'Charlot')\n",
      "('female', 'male', 'Page')\n",
      "('male', 'female', 'Emanuel')\n",
      "('male', 'female', 'Piggy')\n",
      "('male', 'female', 'Stearne')\n",
      "('male', 'female', 'Sascha')\n",
      "('male', 'female', 'Loren')\n"
     ]
    }
   ],
   "source": [
    "# look at names that were mis-classified\n",
    "errors = []\n",
    "for (name, tag) in devtest_names:\n",
    "    #print(name)\n",
    "    guess = classifier.classify(gender_features(name))\n",
    "    if guess != tag:\n",
    "        errors.append( (tag, guess, name) )\n",
    "\n",
    "print('actual, guess, name: \\n')\n",
    "for x in errors:\n",
    "    print(x)\n",
    "        \n",
    "        "
   ]
  },
  {
   "cell_type": "markdown",
   "metadata": {},
   "source": [
    "### References\n",
    "http://www.nltk.org/howto/corpus.html"
   ]
  }
 ],
 "metadata": {
  "kernelspec": {
   "display_name": "Python 3",
   "language": "python",
   "name": "python3"
  },
  "language_info": {
   "codemirror_mode": {
    "name": "ipython",
    "version": 3
   },
   "file_extension": ".py",
   "mimetype": "text/x-python",
   "name": "python",
   "nbconvert_exporter": "python",
   "pygments_lexer": "ipython3",
   "version": "3.6.6"
  }
 },
 "nbformat": 4,
 "nbformat_minor": 2
}

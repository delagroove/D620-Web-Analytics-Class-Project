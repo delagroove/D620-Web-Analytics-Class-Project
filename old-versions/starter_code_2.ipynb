{
 "cells": [
  {
   "cell_type": "markdown",
   "metadata": {},
   "source": [
    "# Using Machine Learning Classifers with NLTK\n",
    "\n",
    "## CUNY DATA 620 Web Analytics\n",
    "\n",
    "### Fall 2018 Semester Class Project\n",
    "\n",
    "\n",
    "# Instructions\n",
    "\n",
    "- Using any of the three classifiers described in chapter 6 of Natural Language Processing with Python, and any features you can think of, build the best name gender classifier you can. \n",
    "\n",
    "\n",
    "- Begin by splitting the Names Corpus into three subsets: 500 words for the test set, 500 words for the dev-test set, and the remaining 6900 words for the training set. \n",
    "\n",
    "\n",
    "- Then, starting with the example name gender classifier, make incremental improvements. Use the dev-test set to check your progress. Once you are satisfied with your classifier, check its final performance on the test set. \n",
    "\n",
    "\n",
    "- How does the performance on the test set compare to the performance on the dev-test set? Is this what you'd expect? \n",
    "\n",
    "Source: Natural Language Processing with Python, exercise 6.10.2."
   ]
  },
  {
   "cell_type": "code",
   "execution_count": 80,
   "metadata": {},
   "outputs": [],
   "source": [
    "import nltk\n",
    "import random\n",
    "import numpy as np\n",
    "import pandas as pd\n",
    "from itertools import repeat\n",
    "from sklearn.model_selection import train_test_split\n",
    "import re"
   ]
  },
  {
   "cell_type": "markdown",
   "metadata": {},
   "source": [
    "# The Data\n",
    "\n",
    "Using the NLTK's `names` corpus, we will be demonstrating how to create and improve supervised classification models. The corpus contains 2 files called `female.txt` and `male.txt`."
   ]
  },
  {
   "cell_type": "code",
   "execution_count": 81,
   "metadata": {
    "scrolled": true
   },
   "outputs": [
    {
     "data": {
      "text/plain": [
       "['female.txt', 'male.txt']"
      ]
     },
     "execution_count": 81,
     "metadata": {},
     "output_type": "execute_result"
    }
   ],
   "source": [
    "from nltk.corpus import names\n",
    "names.fileids() # confirm male and female txt files exist"
   ]
  },
  {
   "cell_type": "markdown",
   "metadata": {},
   "source": [
    "Let's import the male & female names, look at the first 20 entries for each and store them together in a variable called `people`. We will normalize the names by changing them to lowercase letters."
   ]
  },
  {
   "cell_type": "code",
   "execution_count": 82,
   "metadata": {
    "scrolled": true
   },
   "outputs": [
    {
     "name": "stdout",
     "output_type": "stream",
     "text": [
      "['aamir', 'aaron', 'abbey', 'abbie', 'abbot', 'abbott', 'abby', 'abdel', 'abdul', 'abdulkarim', 'abdullah', 'abe', 'abel', 'abelard', 'abner', 'abraham', 'abram', 'ace', 'adair', 'adam']\n",
      "['abagael', 'abagail', 'abbe', 'abbey', 'abbi', 'abbie', 'abby', 'abigael', 'abigail', 'abigale', 'abra', 'acacia', 'ada', 'adah', 'adaline', 'adara', 'addie', 'addis', 'adel', 'adela']\n"
     ]
    }
   ],
   "source": [
    "# load male and female  name files from nltk.names; store in people list\n",
    "males, females = [n.lower() for n in names.words('male.txt')], [n.lower() for n in names.words('female.txt')] \n",
    "\n",
    "print([male for male in males[:20]])\n",
    "print([female for female in females[:20]])\n",
    "\n",
    "people = males + females"
   ]
  },
  {
   "cell_type": "markdown",
   "metadata": {},
   "source": [
    "We have 7944 names in total."
   ]
  },
  {
   "cell_type": "code",
   "execution_count": 83,
   "metadata": {},
   "outputs": [
    {
     "data": {
      "text/plain": [
       "7944"
      ]
     },
     "execution_count": 83,
     "metadata": {},
     "output_type": "execute_result"
    }
   ],
   "source": [
    "n_people = len(people)\n",
    "n_people"
   ]
  },
  {
   "cell_type": "markdown",
   "metadata": {},
   "source": [
    "Next, let's create the variable `gender`, which will contain the gender labels for each of the names. "
   ]
  },
  {
   "cell_type": "code",
   "execution_count": 84,
   "metadata": {
    "scrolled": true
   },
   "outputs": [],
   "source": [
    "# make gender list\n",
    "gender = list(repeat('male', len(males))) + list(repeat('female', len(females)))"
   ]
  },
  {
   "cell_type": "markdown",
   "metadata": {},
   "source": [
    "When we plot the frequency of the male and female names, we see that there is a class imbalance between the two labels. There are considerably more females than males."
   ]
  },
  {
   "cell_type": "code",
   "execution_count": 85,
   "metadata": {
    "scrolled": true
   },
   "outputs": [
    {
     "data": {
      "text/plain": [
       "<matplotlib.axes._subplots.AxesSubplot at 0x22f40632128>"
      ]
     },
     "execution_count": 85,
     "metadata": {},
     "output_type": "execute_result"
    },
    {
     "data": {
      "image/png": "[encoded data removed]",
      "text/plain": [
       "<Figure size 432x288 with 1 Axes>"
      ]
     },
     "metadata": {},
     "output_type": "display_data"
    }
   ],
   "source": [
    "gender_counts = pd.Series(gender).value_counts()\n",
    "gender_counts.plot.bar()"
   ]
  },
  {
   "cell_type": "markdown",
   "metadata": {},
   "source": [
    "Specifically, more than 60% are female. We will want to be cognizant of this class imbalance when we choose the metrics to evaluate the strength of our model. If we simply predicted that every name was female, we would be correct more than 60% of the time. We may also want to consider stratifying the training, development and testing data sets."
   ]
  },
  {
   "cell_type": "code",
   "execution_count": 86,
   "metadata": {
    "scrolled": true
   },
   "outputs": [
    {
     "data": {
      "text/plain": [
       "<matplotlib.axes._subplots.AxesSubplot at 0x22f41142518>"
      ]
     },
     "execution_count": 86,
     "metadata": {},
     "output_type": "execute_result"
    },
    {
     "data": {
      "image/png": "[encoded data removed]",
      "text/plain": [
       "<Figure size 432x288 with 1 Axes>"
      ]
     },
     "metadata": {},
     "output_type": "display_data"
    }
   ],
   "source": [
    "gender_counts.divide(n_people).plot.bar()"
   ]
  },
  {
   "cell_type": "markdown",
   "metadata": {},
   "source": [
    "# Feature Engineering\n",
    "\n",
    "Our raw dataset contains only one predictor variable.  This feature indicates the first name of each observed individual in our data.  Unfortunately, the name variable--in its unprocessed form--will not be very useful for building an accurate gender classification model.  A model constructed using first names only will struggle to predict gender for names not explicitly identified in the training data.  Also, our dataset contains a unique collection of first names within each gender class, but has a small number of overlapping names between gender types.  Without additional feature engineering, our models will not be able to make reasonable guesses when encountering gender-neutral names.  \n",
    "\n",
    "The textbook, *Natural Language Processing with Python*, provides a number of helpful suggestions for extracting new features from first names for gender classification purposes:\n",
    "* isolate the first letter of each name\n",
    "* isolate the last letter of each name\n",
    "* isolate the last two letters of each name.\n",
    "\n",
    "We decided to include these features as possible predictors for our models.  These extracted features can reveal common patterns in the prefixes and suffixes of first names that are often associated with a particular gender.  For instance, many female first names end with the letter \"a\".  \n",
    "\n",
    "Building on the text's suggestions, we also extracted the following features:\n",
    "* the first two letters of each name\n",
    "* the first three letters of each name\n",
    "* the last three letters of each name\n",
    "\n",
    "There were a handful of additional features that we thought might be relevant for gender identification:\n",
    "* the number of vowels in each name\n",
    "* The first two non-contiguous letters of each name \n",
    "* The first three non-contiguous letters\n",
    "* The last two non-contiguous letters\n",
    "* the last three non-contiguous letters\n",
    "\n",
    "We also found an [article](https://www.ncbi.nlm.nih.gov/pmc/articles/PMC4446333/) from an academic journal that characterizes certain letters as \"round\" and others as \"sharp\".  The authors contend that round letters tend to be associated with female names, while sharp letters are more often associated with male names.  Using this information, we created the following potential features:\n",
    "* the number of round, consonant letters (\"b\",\"m\", \"l\", and \"n\") in each name\n",
    "* the number of sharp, consant letters (\"k\", \"p\", and \"t\") per name\n",
    "* the number of round vowels (\"u\" and \"o\") in each first name.\n",
    "\n",
    "Finally, we found a Wordpress [blog entry](https://debuk.wordpress.com/tag/feminine-suffixes/) that discusses common female suffixes in first names.  These include names ending in ending in \"a\", \"y\", \"ie\", and \"ah\".  We used this information to create a new binary variable that identifies if one of these suffixes is present in a given name.\n",
    "\n",
    "In the script below, we create a function, *gender_features()*, that returns a dictionary of the extracted features described in this section.  The function has multiple arguments:\n",
    "* a first name to use for extracting features\n",
    "* a list of desired features.  This argument can be used to vary the features that are returned by the function \n",
    "\n",
    "  \n",
    "   "
   ]
  },
  {
   "cell_type": "code",
   "execution_count": 87,
   "metadata": {},
   "outputs": [],
   "source": [
    "# produce features\n",
    "def gender_features(word, *args):\n",
    "    \"\"\"\n",
    "    function returns dictionary of features\n",
    "        word: name to extract features from\n",
    "        args:  one or more strings to specify desired features, including:\n",
    "                'length','first','first2','first3', 'last', 'last2', 'last3',\n",
    "                'every_other2_beg','every_other3_beg', 'every_other2_end', 'every_other3_end',\n",
    "                'vowel_ct', 'round_cons_ct', 'sharp_cons_ct','round_vowel_ct',\n",
    "                trad_female_end'\n",
    "               \n",
    "    \"\"\"\n",
    "    \n",
    "    gf = {}\n",
    "    \n",
    "    # word length\n",
    "    gf['length'] = len(word)\n",
    "   \n",
    "    # first letters\n",
    "    gf['first'] = word[0].lower()\n",
    "    gf['first2'] = word[0:2].lower()\n",
    "    gf['first3'] = word[0:3].lower() if gf['length'] >2  else word[0:2].lower()\n",
    "    \n",
    "    gf['two_letters'] = 'y' if len(word) == 2 else 'n'\n",
    "    \n",
    "    # last letters\n",
    "    gf['last'] = word[-1].lower()\n",
    "    gf['last2'] = word[-2:].lower()\n",
    "    gf['last3'] = word[-3:].lower() if gf['length'] >2  else word[-2:].lower()\n",
    "    \n",
    "    # every other beg\n",
    "    gf['every_other2_beg'] = word[0]+word[2] if gf['length'] > 2 else word[0]\n",
    "    gf['every_other3_beg'] = gf['every_other2_beg']+word[4]  if gf['length'] > 4 else \\\n",
    "    gf['every_other2_beg']\n",
    "    \n",
    "    # every other end\n",
    "    gf['every_other2_end'] = word[-3]+word[-1] if gf['length'] > 2 else word[-1]\n",
    "    gf['every_other3_end'] = word[-5]+gf['every_other2_end']  if gf['length'] > 4 else \\\n",
    "    gf['every_other2_end']\n",
    "    \n",
    "    # count: vowels, rounded consonants, sharp consonants\n",
    "    for letter in word:\n",
    "        # count vowels\n",
    "        if letter in 'aeiou':\n",
    "            gf['vowel_ct'] = gf.get('vowel_ct',0) + 1\n",
    "        # count rounded consonants\n",
    "        if letter in 'bmln':\n",
    "            gf['round_cons_ct'] = gf.get('round_cons_ct',0) + 1\n",
    "        # count sharp consonants\n",
    "        if letter in 'k,p,t':\n",
    "            gf['sharp_cons_ct'] = gf.get('sharp_cons_ct',0) + 1\n",
    "        # count rounded vowels\n",
    "        if letter in 'uo':\n",
    "            gf['round_vowel_ct'] = gf.get('round_vowel_ct',0) + 1\n",
    "            \n",
    "    # traditional feminine ending, 'y' or 'n'\n",
    "    gf['trad_female_end'] = 'y' if gf['last2'] in ['ie','ah'] or \\\n",
    "    gf['last'] in ['a','y'] else 'n'\n",
    "    \n",
    "    ## patterns: double consonant ends in y: Binny, Daffy...\n",
    "    #gf['consonant_y'] = 'y' if bool(re.search(r\"([b-df-hj-np-tv-z])\\1{1,}y$\", word)) else 'n'\n",
    "    \n",
    "    # generate dictionary subset\n",
    "    return(dict((k, gf[k]) for k in args if k in gf))"
   ]
  },
  {
   "cell_type": "code",
   "execution_count": 88,
   "metadata": {},
   "outputs": [
    {
     "data": {
      "text/plain": [
       "{'length': 5,\n",
       " 'first': 'b',\n",
       " 'first2': 'bi',\n",
       " 'first3': 'bin',\n",
       " 'last': 'y',\n",
       " 'last2': 'ny',\n",
       " 'last3': 'nny',\n",
       " 'every_other2_beg': 'Bn',\n",
       " 'every_other3_beg': 'Bny',\n",
       " 'every_other2_end': 'ny',\n",
       " 'every_other3_end': 'Bny',\n",
       " 'vowel_ct': 1,\n",
       " 'round_cons_ct': 2,\n",
       " 'trad_female_end': 'y'}"
      ]
     },
     "execution_count": 88,
     "metadata": {},
     "output_type": "execute_result"
    }
   ],
   "source": [
    "# specify which features to use\n",
    "myargs = ['length','first','first2','first3', 'last', 'last2', 'last3', \\\n",
    "          'every_other2_beg','every_other3_beg', 'every_other2_end', 'every_other3_end', \\\n",
    "          'vowel_ct', 'round_cons_ct', 'sharp_cons_ct','round_vowel_ct', \\\n",
    "          'trad_female_end']\n",
    "\n",
    "# specify name, and argument list \n",
    "gender_features('Binny', *myargs)"
   ]
  },
  {
   "cell_type": "markdown",
   "metadata": {},
   "source": [
    "# Training, Development & Test Sets\n",
    "\n",
    "Let's partition our names & labels into 3 buckets. We will stratify each bucket in order to maintain our class imbalance and set the random state to 4.\n",
    "\n",
    "- First, let's set aside 500 observations that will not be used in training or development. We will use this test set to evaluate the strength of the model.\n",
    "\n",
    "- Then, let's hold out another 500 observations to use as a development set to do error analysis.\n",
    "\n",
    "- Finally, we will use the remaining 6944 names to train our model."
   ]
  },
  {
   "cell_type": "code",
   "execution_count": 89,
   "metadata": {},
   "outputs": [],
   "source": [
    "# set aside 500 samples for testing\n",
    "people_dev_train, people_test, gender_dev_train, gender_test = train_test_split(people, \n",
    "                                                                        gender, \n",
    "                                                                        test_size=500, \n",
    "                                                                        stratify=gender, \n",
    "                                                                        random_state=4)\n",
    "\n",
    "# set aside 500 samples for development\n",
    "people_train, people_devtest, gender_train, gender_devtest = train_test_split(people_dev_train, \n",
    "                                                                            gender_dev_train, \n",
    "                                                                            test_size=500, \n",
    "                                                                            stratify=gender_dev_train,\n",
    "                                                                            random_state=4)\n",
    "\n",
    "# list of tuples (name, gender)\n",
    "train_names = list(zip(people_train, gender_train))\n",
    "devtest_names = list(zip(people_devtest, gender_devtest))\n",
    "test_names = list(zip(people_test, gender_test))"
   ]
  },
  {
   "cell_type": "markdown",
   "metadata": {},
   "source": [
    "# Naive Bayes Classification\n",
    "\n",
    "Let's use the naive Bayes (NB) classifier to build our first model. This model derives its \"naiviete\" from its independence asssumption. NB assumes that all features are independent of one another, but features within real-world data often contain dependencies. \n",
    "\n",
    "## NB Round 1\n",
    "\n",
    "Since using too many dependent features can cause the NB model to double count the effect of what is essentially the same feature, let's initiate the model with only a handful of features and try the additive approach. We will use the name length, first character and last character."
   ]
  },
  {
   "cell_type": "code",
   "execution_count": 90,
   "metadata": {},
   "outputs": [],
   "source": [
    "def create_features(names, genders, features):\n",
    "    \"\"\"\n",
    "    function returns list of tuples (name features, gender)\n",
    "        names: list of names to extract features from\n",
    "        genders: list of gender values\n",
    "        features: list of feature functions           \n",
    "    \"\"\"    \n",
    "    return list(zip(map(lambda d: gender_features(d, *features), names), genders))\n",
    "\n",
    "initial_NB_features = ['length', 'last', 'first']\n",
    "\n",
    "train_features  = create_features(people_train, gender_train, initial_NB_features)\n",
    "devtest_features = create_features(people_devtest, gender_devtest, initial_NB_features)\n",
    "test_features = create_features(people_test, gender_test, initial_NB_features)"
   ]
  },
  {
   "cell_type": "markdown",
   "metadata": {},
   "source": [
    "The accuracy between the training and development sets is decent at .78."
   ]
  },
  {
   "cell_type": "code",
   "execution_count": 91,
   "metadata": {
    "scrolled": false
   },
   "outputs": [
    {
     "name": "stdout",
     "output_type": "stream",
     "text": [
      "0.78\n"
     ]
    }
   ],
   "source": [
    "# train naive bayes classifier \n",
    "nb_classifier = nltk.NaiveBayesClassifier.train(train_features)\n",
    "# classifer accuracy on validation set\n",
    "print(nltk.classify.accuracy(nb_classifier, devtest_features))"
   ]
  },
  {
   "cell_type": "markdown",
   "metadata": {},
   "source": [
    "Let's take a look at the likelihood ratios of most informative features so far. The last character provides the most information. We should probably try adding more features from the end of the name to see if they improve the model accuracy."
   ]
  },
  {
   "cell_type": "code",
   "execution_count": 92,
   "metadata": {
    "scrolled": false
   },
   "outputs": [
    {
     "name": "stdout",
     "output_type": "stream",
     "text": [
      "Most Informative Features\n",
      "                    last = 'a'            female : male   =     34.9 : 1.0\n",
      "                    last = 'k'              male : female =     30.3 : 1.0\n",
      "                    last = 'f'              male : female =     15.3 : 1.0\n",
      "                    last = 'p'              male : female =     11.2 : 1.0\n",
      "                    last = 'v'              male : female =     11.2 : 1.0\n",
      "                    last = 'd'              male : female =     10.1 : 1.0\n",
      "                    last = 'o'              male : female =      8.3 : 1.0\n",
      "                    last = 'm'              male : female =      8.2 : 1.0\n",
      "                    last = 'r'              male : female =      6.8 : 1.0\n",
      "                    last = 'z'              male : female =      6.4 : 1.0\n",
      "                    last = 'b'              male : female =      6.3 : 1.0\n",
      "                    last = 'w'              male : female =      5.1 : 1.0\n",
      "                    last = 'g'              male : female =      4.9 : 1.0\n",
      "                   first = 'w'              male : female =      4.5 : 1.0\n",
      "                    last = 's'              male : female =      4.2 : 1.0\n",
      "                    last = 't'              male : female =      4.0 : 1.0\n",
      "                    last = 'i'            female : male   =      3.7 : 1.0\n",
      "                   first = 'q'              male : female =      3.1 : 1.0\n",
      "                    last = 'u'              male : female =      2.7 : 1.0\n",
      "                  length = 2                male : female =      2.4 : 1.0\n",
      "                   first = 'k'            female : male   =      2.2 : 1.0\n",
      "                    last = 'x'              male : female =      2.1 : 1.0\n",
      "                   first = 'h'              male : female =      2.1 : 1.0\n",
      "                    last = 'n'              male : female =      2.1 : 1.0\n",
      "                  length = 3                male : female =      2.1 : 1.0\n",
      "                   first = 'u'              male : female =      2.0 : 1.0\n",
      "                    last = 'e'            female : male   =      1.8 : 1.0\n",
      "                    last = 'l'              male : female =      1.7 : 1.0\n",
      "                  length = 15               male : female =      1.7 : 1.0\n",
      "                   first = 'x'              male : female =      1.7 : 1.0\n"
     ]
    }
   ],
   "source": [
    "# look at most informative features\n",
    "nb_classifier.show_most_informative_features(30)"
   ]
  },
  {
   "cell_type": "markdown",
   "metadata": {},
   "source": [
    "Next, let's take a look at some of the model's misclassified names. From looking at the errors, we see that using only the first and last character is too simplistic. "
   ]
  },
  {
   "cell_type": "code",
   "execution_count": 93,
   "metadata": {
    "scrolled": false
   },
   "outputs": [
    {
     "name": "stdout",
     "output_type": "stream",
     "text": [
      "actual, guess, name: \n",
      "\n",
      "('male', 'female', 'wye')\n",
      "('male', 'female', 'llewellyn')\n",
      "('male', 'female', 'smith')\n",
      "('male', 'female', 'garry')\n",
      "('male', 'female', 'thadeus')\n",
      "('male', 'female', 'jereme')\n",
      "('male', 'female', 'harvie')\n",
      "('male', 'female', 'grant')\n",
      "('male', 'female', 'gerrit')\n",
      "('male', 'female', 'woodman')\n",
      "('male', 'female', 'owen')\n",
      "('male', 'female', 'roderic')\n",
      "('male', 'female', 'moses')\n",
      "('male', 'female', 'arvin')\n",
      "('male', 'female', 'moishe')\n",
      "('male', 'female', 'georges')\n",
      "('male', 'female', 'redmond')\n",
      "('male', 'female', 'jud')\n",
      "('male', 'female', 'davin')\n",
      "('male', 'female', 'abe')\n",
      "('male', 'female', 'whitaker')\n",
      "('male', 'female', 'sheffy')\n",
      "('male', 'female', 'michale')\n",
      "('male', 'female', 'rufus')\n",
      "('male', 'female', 'bary')\n",
      "('male', 'female', 'paten')\n",
      "('male', 'female', 'jehu')\n",
      "('male', 'female', 'martyn')\n",
      "('male', 'female', 'bartolemo')\n",
      "('male', 'female', 'trace')\n"
     ]
    }
   ],
   "source": [
    "# look at names that were mis-classified\n",
    "errors = []\n",
    "for (name, tag) in devtest_names:\n",
    "    #print(name)\n",
    "    guess = nb_classifier.classify(gender_features(name))\n",
    "    if guess != tag:\n",
    "        errors.append((tag, guess, name))\n",
    "\n",
    "print('actual, guess, name: \\n')\n",
    "for x in errors[:30]:\n",
    "    print(x)"
   ]
  },
  {
   "cell_type": "markdown",
   "metadata": {},
   "source": [
    "## NB Round 2\n",
    "\n",
    "Since we did some error analysis, let's make sure that we reset our training and development set, so that the model doesn't become biased towards the previous round's idiosyncracies. We will use a different random state."
   ]
  },
  {
   "cell_type": "code",
   "execution_count": 94,
   "metadata": {
    "scrolled": true
   },
   "outputs": [],
   "source": [
    "people_train_v2, people_devtest_v2, gender_train_v2, gender_devtest_v2 = train_test_split(people_dev_train, \n",
    "                                                                            gender_dev_train, \n",
    "                                                                            test_size=500, \n",
    "                                                                            stratify=gender_dev_train,\n",
    "                                                                            random_state=5)\n",
    "\n",
    "# list of tuples (name, gender)\n",
    "train_names_v2 = list(zip(people_train_v2, gender_train_v2))\n",
    "devtest_names_v2 = list(zip(people_devtest_v2, gender_devtest_v2))"
   ]
  },
  {
   "cell_type": "markdown",
   "metadata": {},
   "source": [
    "For this 2nd round, let's add some new features from the end characters of the names. We will add the last 2 and the last 3 letters. We will also add the new features to the test set as well."
   ]
  },
  {
   "cell_type": "code",
   "execution_count": 99,
   "metadata": {},
   "outputs": [],
   "source": [
    "NB_features_v2 = initial_NB_features + ['last2', 'last3']\n",
    "\n",
    "train_features_v2  = create_features(people_train_v2, gender_train_v2, NB_features_v2)\n",
    "devtest_features_v2 = create_features(people_devtest_v2, gender_devtest_v2, NB_features_v2)\n",
    "test_features_v2 = create_features(people_test, gender_test, NB_features_v2)"
   ]
  },
  {
   "cell_type": "markdown",
   "metadata": {},
   "source": [
    "Now let's fit the model again using the new features. The accuracy score has improved from .78 to .788."
   ]
  },
  {
   "cell_type": "code",
   "execution_count": 100,
   "metadata": {},
   "outputs": [
    {
     "name": "stdout",
     "output_type": "stream",
     "text": [
      "0.788\n"
     ]
    }
   ],
   "source": [
    "# train naive bayes classifier \n",
    "nb_classifier_v2 = nltk.NaiveBayesClassifier.train(train_features_v2)\n",
    "# # classifer accuracy on validation set\n",
    "print(nltk.classify.accuracy(nb_classifier_v2, devtest_features_v2))"
   ]
  },
  {
   "cell_type": "markdown",
   "metadata": {},
   "source": [
    "Compared to the 1st round features, the `last2` feature adds a lot of information to the model and `last3` as well to a lesser degree. When the last 2 letters are 'na', the name is 94 times more often female than male."
   ]
  },
  {
   "cell_type": "code",
   "execution_count": 101,
   "metadata": {
    "scrolled": false
   },
   "outputs": [
    {
     "name": "stdout",
     "output_type": "stream",
     "text": [
      "Most Informative Features\n",
      "                   last2 = 'na'           female : male   =     94.1 : 1.0\n",
      "                   last2 = 'ia'           female : male   =     38.5 : 1.0\n",
      "                   last2 = 'ld'             male : female =     37.2 : 1.0\n",
      "                   last2 = 'us'             male : female =     35.6 : 1.0\n",
      "                    last = 'a'            female : male   =     33.6 : 1.0\n",
      "                   last2 = 'sa'           female : male   =     32.6 : 1.0\n",
      "                    last = 'k'              male : female =     30.8 : 1.0\n",
      "                   last3 = 'nne'          female : male   =     29.8 : 1.0\n",
      "                   last2 = 'rd'             male : female =     25.3 : 1.0\n",
      "                   last2 = 'do'             male : female =     25.0 : 1.0\n",
      "                   last2 = 'ta'           female : male   =     24.8 : 1.0\n",
      "                   last3 = 'ana'          female : male   =     24.2 : 1.0\n",
      "                   last3 = 'tta'          female : male   =     24.2 : 1.0\n",
      "                   last2 = 'io'             male : female =     23.9 : 1.0\n",
      "                   last2 = 'ra'           female : male   =     22.4 : 1.0\n",
      "                   last3 = 'ard'            male : female =     21.6 : 1.0\n",
      "                   last3 = 'vin'            male : female =     20.2 : 1.0\n",
      "                   last2 = 'rt'             male : female =     19.7 : 1.0\n",
      "                   last2 = 'os'             male : female =     17.2 : 1.0\n",
      "                   last3 = 'ita'          female : male   =     16.1 : 1.0\n",
      "                    last = 'f'              male : female =     15.9 : 1.0\n",
      "                   last3 = 'son'            male : female =     15.3 : 1.0\n",
      "                   last3 = 'old'            male : female =     15.0 : 1.0\n",
      "                   last2 = 'im'             male : female =     15.0 : 1.0\n",
      "                   last3 = 'ria'          female : male   =     14.4 : 1.0\n",
      "                   last3 = 'dra'          female : male   =     12.6 : 1.0\n",
      "                    last = 'p'              male : female =     12.5 : 1.0\n",
      "                   last2 = 'ch'             male : female =     11.7 : 1.0\n",
      "                   last2 = 'ns'             male : female =     11.7 : 1.0\n",
      "                    last = 'v'              male : female =     11.2 : 1.0\n"
     ]
    }
   ],
   "source": [
    "# # look at most informative features\n",
    "nb_classifier_v2.show_most_informative_features(30)"
   ]
  },
  {
   "cell_type": "markdown",
   "metadata": {},
   "source": [
    "## NB Testing\n",
    "\n",
    "Let's evaluate our model from round #2 against the test set that we have been holding out from our feature selection process. At 0.816, the features and model perform well against this new set of data. The accuracy is actually a little higher than the model's accuracy against the development set. If model's accuracy decreased vis-a-vis the test set, we would be concerned that the model was overfit to our training data, but that does not appear to be the case."
   ]
  },
  {
   "cell_type": "code",
   "execution_count": 98,
   "metadata": {
    "scrolled": true
   },
   "outputs": [
    {
     "name": "stdout",
     "output_type": "stream",
     "text": [
      "0.816\n"
     ]
    }
   ],
   "source": [
    "print(nltk.classify.accuracy(nb_classifier_v2, test_features_v2))"
   ]
  },
  {
   "cell_type": "markdown",
   "metadata": {},
   "source": [
    "# Decision Tree Classification"
   ]
  },
  {
   "cell_type": "code",
   "execution_count": null,
   "metadata": {},
   "outputs": [],
   "source": []
  },
  {
   "cell_type": "markdown",
   "metadata": {},
   "source": [
    "# Maximum Entropy Classification"
   ]
  },
  {
   "cell_type": "code",
   "execution_count": null,
   "metadata": {},
   "outputs": [],
   "source": []
  },
  {
   "cell_type": "markdown",
   "metadata": {},
   "source": [
    "### References\n",
    "http://www.nltk.org/howto/corpus.html\n",
    "\n",
    "[Natural Language Processing with Python: Analyzing Text with the Natural Language Toolkit](https://www.amazon.com/Natural-Language-Processing-Python-Analyzing/dp/0596516495/ref=mt_paperback?_encoding=UTF8&me=&qid=)"
   ]
  }
 ],
 "metadata": {
  "kernelspec": {
   "display_name": "Python 3",
   "language": "python",
   "name": "python3"
  },
  "language_info": {
   "codemirror_mode": {
    "name": "ipython",
    "version": 3
   },
   "file_extension": ".py",
   "mimetype": "text/x-python",
   "name": "python",
   "nbconvert_exporter": "python",
   "pygments_lexer": "ipython3",
   "version": "3.6.5"
  }
 },
 "nbformat": 4,
 "nbformat_minor": 2
}
